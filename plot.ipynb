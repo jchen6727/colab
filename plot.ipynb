{
  "cells": [
    {
      "cell_type": "markdown",
      "metadata": {
        "id": "view-in-github",
        "colab_type": "text"
      },
      "source": [
        "<a href=\"https://colab.research.google.com/github/jchen6727/colab/blob/master/plot.ipynb\" target=\"_parent\"><img src=\"https://colab.research.google.com/assets/colab-badge.svg\" alt=\"Open In Colab\"/></a>"
      ]
    },
    {
      "cell_type": "code",
      "source": [
        "# clone colab\n",
        "!git clone https://github.com/jchen6727/colab.git"
      ],
      "metadata": {
        "id": "1ZcZYLNsbjrk",
        "outputId": "fa384b24-b11b-48ef-8b18-e41a8ad09e23",
        "colab": {
          "base_uri": "https://localhost:8080/"
        }
      },
      "execution_count": 1,
      "outputs": [
        {
          "output_type": "stream",
          "name": "stdout",
          "text": [
            "Cloning into 'colab'...\n",
            "remote: Enumerating objects: 44, done.\u001b[K\n",
            "remote: Counting objects: 100% (44/44), done.\u001b[K\n",
            "remote: Compressing objects: 100% (33/33), done.\u001b[K\n",
            "remote: Total 44 (delta 16), reused 32 (delta 8), pack-reused 0\u001b[K\n",
            "Receiving objects: 100% (44/44), 1.20 MiB | 8.55 MiB/s, done.\n",
            "Resolving deltas: 100% (16/16), done.\n"
          ]
        }
      ]
    },
    {
      "cell_type": "code",
      "execution_count": 5,
      "metadata": {
        "id": "XTqBAG2lbepD"
      },
      "outputs": [],
      "source": [
        "# import and read to dataframe\n",
        "import pandas\n",
        "import plotly.express as px\n",
        "\n",
        "import argparse\n",
        "\n",
        "bfiles = ['colab/bopt/b{}.csv'.format(i) for i in ['011', '101', '110', '111']]\n",
        "ofiles = ['colab/optuna/o{}.csv'.format(i) for i in ['011', '101', '110', '111']]\n",
        "\n",
        "df = pandas.read_csv('colab/bopt/b011.csv')\n"
      ]
    },
    {
      "cell_type": "code",
      "source": [
        "# create additional columns (min)\n",
        "\n",
        "df['min_loss'] = df['loss'].expanding().min()\n",
        "\n",
        "actual = { # weights from cfg, AMPA, GABA, NMDA\n",
        "    'PYR->BC_AMPA' : 0.36e-3, \"BC->BC_GABA\"  : 4.5e-3 , \"PYR->BC_NMDA\" : 1.38e-3 ,\n",
        "    'PYR->OLM_AMPA': 0.36e-3, \"BC->PYR_GABA\" : 0.72e-3, \"PYR->OLM_NMDA\": 0.7e-3  ,\n",
        "    'PYR->PYR_AMPA': 0.02e-3, \"OLM->PYR_GABA\": 72e-3  , \"PYR->PYR_NMDA\": 0.004e-3,\n",
        "}\n",
        "\n",
        "rename = {\n",
        "       'config/netParams.connParams.BC->BC_GABA.weight',\n",
        "       'config/netParams.connParams.BC->PYR_GABA.weight',\n",
        "       'config/netParams.connParams.OLM->PYR_GABA.weight',\n",
        "       'config/netParams.connParams.PYR->BC_AMPA.weight',\n",
        "       'config/netParams.connParams.PYR->BC_NMDA.weight',\n",
        "       'config/netParams.connParams.PYR->OLM_AMPA.weight',\n",
        "       'config/netParams.connParams.PYR->OLM_NMDA.weight',\n",
        "       'config/netParams.connParams.PYR->PYR_AMPA.weight',\n",
        "       'config/netParams.connParams.PYR->PYR_NMDA.weight',\n",
        "}\n",
        "\n",
        "rename = { n: n.split('.')[2] for n in rename if n in df.columns}\n",
        "\n",
        "params = rename.values()\n",
        "\n",
        "df.rename(rename, axis=1, inplace=True)\n",
        "\n",
        "def expanding_idxmin(df, col):\n",
        "    curr = 0\n",
        "    for i in range(len(df)):\n",
        "        if df[col][i] < df[col][0:i].min():\n",
        "            yield i\n",
        "            curr = i\n",
        "        else:\n",
        "            yield curr\n",
        "\n",
        "for param in params:\n",
        "    df['MIN_{}'.format(param)] = df[param][expanding_idxmin(df, 'loss')].reset_index(drop=True)\n",
        "\n",
        "for param in ['PYR', 'BC', 'OLM']:\n",
        "    df['MIN_{}'.format(param)] = df[param][expanding_idxmin(df, 'loss')].reset_index(drop=True)\n"
      ],
      "metadata": {
        "id": "MLGvSVJgcXGy"
      },
      "execution_count": 6,
      "outputs": []
    },
    {
      "cell_type": "code",
      "source": [
        "# show plots\n",
        "fig = px.scatter(df, x=df.index, y='loss')\n",
        "fig.add_scatter(x=df.index, y=df['min_loss'], mode='lines', name='min_loss')\n",
        "fig.show()\n",
        "################################################################################\n",
        "#\n",
        "#  LOSS (MSE) PER TRIAL RUN\n",
        "#\n",
        "################################################################################"
      ],
      "metadata": {
        "id": "JdboJLXeco4n",
        "outputId": "d3fdf1a6-4ee1-435a-ffa6-78d48d7d890b",
        "colab": {
          "base_uri": "https://localhost:8080/",
          "height": 542
        }
      },
      "execution_count": 7,
      "outputs": [
        {
          "output_type": "display_data",
          "data": {
            "text/html": [
              "<html>\n",
              "<head><meta charset=\"utf-8\" /></head>\n",
              "<body>\n",
              "    <div>            <script src=\"https://cdnjs.cloudflare.com/ajax/libs/mathjax/2.7.5/MathJax.js?config=TeX-AMS-MML_SVG\"></script><script type=\"text/javascript\">if (window.MathJax && window.MathJax.Hub && window.MathJax.Hub.Config) {window.MathJax.Hub.Config({SVG: {font: \"STIX-Web\"}});}</script>                <script type=\"text/javascript\">window.PlotlyConfig = {MathJaxConfig: 'local'};</script>\n",
              "        <script src=\"https://cdn.plot.ly/plotly-2.18.2.min.js\"></script>                <div id=\"054fe5ee-37f5-4aa4-9c56-b6173dab3da6\" class=\"plotly-graph-div\" style=\"height:525px; width:100%;\"></div>            <script type=\"text/javascript\">                                    window.PLOTLYENV=window.PLOTLYENV || {};                                    if (document.getElementById(\"054fe5ee-37f5-4aa4-9c56-b6173dab3da6\")) {                    Plotly.newPlot(                        \"054fe5ee-37f5-4aa4-9c56-b6173dab3da6\",                        [{\"hovertemplate\":\"index=%{x}<br>loss=%{y}<extra></extra>\",\"legendgroup\":\"\",\"marker\":{\"color\":\"#636efa\",\"symbol\":\"circle\"},\"mode\":\"markers\",\"name\":\"\",\"orientation\":\"v\",\"showlegend\":false,\"x\":[0,1,2,3,4,5,6,7,8,9,10,11,12,13,14,15,16,17,18,19,20,21,22,23,24,25,26,27,28,29,30,31,32,33,34,35,36,37,38,39,40,41,42,43,44,45,46,47,48,49,50,51,52,53,54,55,56,57,58,59,60,61,62,63,64,65,66,67,68,69,70,71,72,73,74,75,76,77,78,79,80,81,82,83,84,85,86,87,88,89,90,91,92,93,94,95,96,97,98,99],\"xaxis\":\"x\",\"y\":[4.174133333333336,9.488566666666673,0.7632666666666669,0.4235333333333337,0.909499999999998,2.286000000000004,8.782166666666667,4.716866666666672,4.003199999999996,1.876400000000002,4.8481333333333305,4.1499,0.0617666666666665,0.2602999999999999,8.200999999999995,1.3564333333333334,4.697866666666668,4.387266666666662,0.7330666666666672,2.823233333333336,1.806566666666668,3.928266666666664,3.555766666666669,3.109933333333337,9.16883333333334,0.0352333333333331,4.00933333333333,9.512666666666666,2.313133333333332,0.7060333333333336,0.5881666666666668,1.9930666666666643,2.5138999999999965,31.1515,0.0369666666666668,6.058433333333333,2.0944666666666643,0.9164333333333337,0.6134666666666652,1.4691,6.490166666666664,0.9445999999999978,6.103266666666664,9.509666666666664,32.048166666666674,0.1028,5.609666666666669,5.640266666666665,0.5262666666666651,3.556866666666665,2.3696666666666664,6.200666666666664,4.122566666666672,0.6309999999999996,1.500033333333335,0.5817666666666664,0.0267,0.7406666666666665,0.2749666666666662,0.8619999999999978,1.6887999999999976,0.1490999999999996,0.0787333333333331,0.9807333333333332,0.3677666666666663,1.4236666666666649,0.8706666666666645,1.234266666666665,13.70656666666666,4.975633333333331,0.3719333333333331,0.5497333333333326,5.470433333333329,0.8815000000000018,0.2339,1.5066666666666684,0.7549333333333332,0.1865999999999996,6.438,1.0769333333333326,0.0878999999999995,0.9258999999999998,0.8031999999999987,0.2983333333333325,2.9375000000000013,3.689499999999999,0.5306999999999984,2.074033333333337,1.5365666666666693,0.4503999999999983,3.6436666666666695,0.3890000000000004,0.2768333333333336,0.5340666666666649,2.909400000000001,4.606299999999998,0.4044666666666658,0.5375000000000006,3.343633333333333,0.6327000000000006],\"yaxis\":\"y\",\"type\":\"scatter\"},{\"mode\":\"lines\",\"name\":\"min_loss\",\"x\":[0,1,2,3,4,5,6,7,8,9,10,11,12,13,14,15,16,17,18,19,20,21,22,23,24,25,26,27,28,29,30,31,32,33,34,35,36,37,38,39,40,41,42,43,44,45,46,47,48,49,50,51,52,53,54,55,56,57,58,59,60,61,62,63,64,65,66,67,68,69,70,71,72,73,74,75,76,77,78,79,80,81,82,83,84,85,86,87,88,89,90,91,92,93,94,95,96,97,98,99],\"y\":[4.174133333333336,4.174133333333336,0.7632666666666669,0.4235333333333337,0.4235333333333337,0.4235333333333337,0.4235333333333337,0.4235333333333337,0.4235333333333337,0.4235333333333337,0.4235333333333337,0.4235333333333337,0.0617666666666665,0.0617666666666665,0.0617666666666665,0.0617666666666665,0.0617666666666665,0.0617666666666665,0.0617666666666665,0.0617666666666665,0.0617666666666665,0.0617666666666665,0.0617666666666665,0.0617666666666665,0.0617666666666665,0.0352333333333331,0.0352333333333331,0.0352333333333331,0.0352333333333331,0.0352333333333331,0.0352333333333331,0.0352333333333331,0.0352333333333331,0.0352333333333331,0.0352333333333331,0.0352333333333331,0.0352333333333331,0.0352333333333331,0.0352333333333331,0.0352333333333331,0.0352333333333331,0.0352333333333331,0.0352333333333331,0.0352333333333331,0.0352333333333331,0.0352333333333331,0.0352333333333331,0.0352333333333331,0.0352333333333331,0.0352333333333331,0.0352333333333331,0.0352333333333331,0.0352333333333331,0.0352333333333331,0.0352333333333331,0.0352333333333331,0.0267,0.0267,0.0267,0.0267,0.0267,0.0267,0.0267,0.0267,0.0267,0.0267,0.0267,0.0267,0.0267,0.0267,0.0267,0.0267,0.0267,0.0267,0.0267,0.0267,0.0267,0.0267,0.0267,0.0267,0.0267,0.0267,0.0267,0.0267,0.0267,0.0267,0.0267,0.0267,0.0267,0.0267,0.0267,0.0267,0.0267,0.0267,0.0267,0.0267,0.0267,0.0267,0.0267,0.0267],\"type\":\"scatter\"}],                        {\"template\":{\"data\":{\"histogram2dcontour\":[{\"type\":\"histogram2dcontour\",\"colorbar\":{\"outlinewidth\":0,\"ticks\":\"\"},\"colorscale\":[[0.0,\"#0d0887\"],[0.1111111111111111,\"#46039f\"],[0.2222222222222222,\"#7201a8\"],[0.3333333333333333,\"#9c179e\"],[0.4444444444444444,\"#bd3786\"],[0.5555555555555556,\"#d8576b\"],[0.6666666666666666,\"#ed7953\"],[0.7777777777777778,\"#fb9f3a\"],[0.8888888888888888,\"#fdca26\"],[1.0,\"#f0f921\"]]}],\"choropleth\":[{\"type\":\"choropleth\",\"colorbar\":{\"outlinewidth\":0,\"ticks\":\"\"}}],\"histogram2d\":[{\"type\":\"histogram2d\",\"colorbar\":{\"outlinewidth\":0,\"ticks\":\"\"},\"colorscale\":[[0.0,\"#0d0887\"],[0.1111111111111111,\"#46039f\"],[0.2222222222222222,\"#7201a8\"],[0.3333333333333333,\"#9c179e\"],[0.4444444444444444,\"#bd3786\"],[0.5555555555555556,\"#d8576b\"],[0.6666666666666666,\"#ed7953\"],[0.7777777777777778,\"#fb9f3a\"],[0.8888888888888888,\"#fdca26\"],[1.0,\"#f0f921\"]]}],\"heatmap\":[{\"type\":\"heatmap\",\"colorbar\":{\"outlinewidth\":0,\"ticks\":\"\"},\"colorscale\":[[0.0,\"#0d0887\"],[0.1111111111111111,\"#46039f\"],[0.2222222222222222,\"#7201a8\"],[0.3333333333333333,\"#9c179e\"],[0.4444444444444444,\"#bd3786\"],[0.5555555555555556,\"#d8576b\"],[0.6666666666666666,\"#ed7953\"],[0.7777777777777778,\"#fb9f3a\"],[0.8888888888888888,\"#fdca26\"],[1.0,\"#f0f921\"]]}],\"heatmapgl\":[{\"type\":\"heatmapgl\",\"colorbar\":{\"outlinewidth\":0,\"ticks\":\"\"},\"colorscale\":[[0.0,\"#0d0887\"],[0.1111111111111111,\"#46039f\"],[0.2222222222222222,\"#7201a8\"],[0.3333333333333333,\"#9c179e\"],[0.4444444444444444,\"#bd3786\"],[0.5555555555555556,\"#d8576b\"],[0.6666666666666666,\"#ed7953\"],[0.7777777777777778,\"#fb9f3a\"],[0.8888888888888888,\"#fdca26\"],[1.0,\"#f0f921\"]]}],\"contourcarpet\":[{\"type\":\"contourcarpet\",\"colorbar\":{\"outlinewidth\":0,\"ticks\":\"\"}}],\"contour\":[{\"type\":\"contour\",\"colorbar\":{\"outlinewidth\":0,\"ticks\":\"\"},\"colorscale\":[[0.0,\"#0d0887\"],[0.1111111111111111,\"#46039f\"],[0.2222222222222222,\"#7201a8\"],[0.3333333333333333,\"#9c179e\"],[0.4444444444444444,\"#bd3786\"],[0.5555555555555556,\"#d8576b\"],[0.6666666666666666,\"#ed7953\"],[0.7777777777777778,\"#fb9f3a\"],[0.8888888888888888,\"#fdca26\"],[1.0,\"#f0f921\"]]}],\"surface\":[{\"type\":\"surface\",\"colorbar\":{\"outlinewidth\":0,\"ticks\":\"\"},\"colorscale\":[[0.0,\"#0d0887\"],[0.1111111111111111,\"#46039f\"],[0.2222222222222222,\"#7201a8\"],[0.3333333333333333,\"#9c179e\"],[0.4444444444444444,\"#bd3786\"],[0.5555555555555556,\"#d8576b\"],[0.6666666666666666,\"#ed7953\"],[0.7777777777777778,\"#fb9f3a\"],[0.8888888888888888,\"#fdca26\"],[1.0,\"#f0f921\"]]}],\"mesh3d\":[{\"type\":\"mesh3d\",\"colorbar\":{\"outlinewidth\":0,\"ticks\":\"\"}}],\"scatter\":[{\"fillpattern\":{\"fillmode\":\"overlay\",\"size\":10,\"solidity\":0.2},\"type\":\"scatter\"}],\"parcoords\":[{\"type\":\"parcoords\",\"line\":{\"colorbar\":{\"outlinewidth\":0,\"ticks\":\"\"}}}],\"scatterpolargl\":[{\"type\":\"scatterpolargl\",\"marker\":{\"colorbar\":{\"outlinewidth\":0,\"ticks\":\"\"}}}],\"bar\":[{\"error_x\":{\"color\":\"#2a3f5f\"},\"error_y\":{\"color\":\"#2a3f5f\"},\"marker\":{\"line\":{\"color\":\"#E5ECF6\",\"width\":0.5},\"pattern\":{\"fillmode\":\"overlay\",\"size\":10,\"solidity\":0.2}},\"type\":\"bar\"}],\"scattergeo\":[{\"type\":\"scattergeo\",\"marker\":{\"colorbar\":{\"outlinewidth\":0,\"ticks\":\"\"}}}],\"scatterpolar\":[{\"type\":\"scatterpolar\",\"marker\":{\"colorbar\":{\"outlinewidth\":0,\"ticks\":\"\"}}}],\"histogram\":[{\"marker\":{\"pattern\":{\"fillmode\":\"overlay\",\"size\":10,\"solidity\":0.2}},\"type\":\"histogram\"}],\"scattergl\":[{\"type\":\"scattergl\",\"marker\":{\"colorbar\":{\"outlinewidth\":0,\"ticks\":\"\"}}}],\"scatter3d\":[{\"type\":\"scatter3d\",\"line\":{\"colorbar\":{\"outlinewidth\":0,\"ticks\":\"\"}},\"marker\":{\"colorbar\":{\"outlinewidth\":0,\"ticks\":\"\"}}}],\"scattermapbox\":[{\"type\":\"scattermapbox\",\"marker\":{\"colorbar\":{\"outlinewidth\":0,\"ticks\":\"\"}}}],\"scatterternary\":[{\"type\":\"scatterternary\",\"marker\":{\"colorbar\":{\"outlinewidth\":0,\"ticks\":\"\"}}}],\"scattercarpet\":[{\"type\":\"scattercarpet\",\"marker\":{\"colorbar\":{\"outlinewidth\":0,\"ticks\":\"\"}}}],\"carpet\":[{\"aaxis\":{\"endlinecolor\":\"#2a3f5f\",\"gridcolor\":\"white\",\"linecolor\":\"white\",\"minorgridcolor\":\"white\",\"startlinecolor\":\"#2a3f5f\"},\"baxis\":{\"endlinecolor\":\"#2a3f5f\",\"gridcolor\":\"white\",\"linecolor\":\"white\",\"minorgridcolor\":\"white\",\"startlinecolor\":\"#2a3f5f\"},\"type\":\"carpet\"}],\"table\":[{\"cells\":{\"fill\":{\"color\":\"#EBF0F8\"},\"line\":{\"color\":\"white\"}},\"header\":{\"fill\":{\"color\":\"#C8D4E3\"},\"line\":{\"color\":\"white\"}},\"type\":\"table\"}],\"barpolar\":[{\"marker\":{\"line\":{\"color\":\"#E5ECF6\",\"width\":0.5},\"pattern\":{\"fillmode\":\"overlay\",\"size\":10,\"solidity\":0.2}},\"type\":\"barpolar\"}],\"pie\":[{\"automargin\":true,\"type\":\"pie\"}]},\"layout\":{\"autotypenumbers\":\"strict\",\"colorway\":[\"#636efa\",\"#EF553B\",\"#00cc96\",\"#ab63fa\",\"#FFA15A\",\"#19d3f3\",\"#FF6692\",\"#B6E880\",\"#FF97FF\",\"#FECB52\"],\"font\":{\"color\":\"#2a3f5f\"},\"hovermode\":\"closest\",\"hoverlabel\":{\"align\":\"left\"},\"paper_bgcolor\":\"white\",\"plot_bgcolor\":\"#E5ECF6\",\"polar\":{\"bgcolor\":\"#E5ECF6\",\"angularaxis\":{\"gridcolor\":\"white\",\"linecolor\":\"white\",\"ticks\":\"\"},\"radialaxis\":{\"gridcolor\":\"white\",\"linecolor\":\"white\",\"ticks\":\"\"}},\"ternary\":{\"bgcolor\":\"#E5ECF6\",\"aaxis\":{\"gridcolor\":\"white\",\"linecolor\":\"white\",\"ticks\":\"\"},\"baxis\":{\"gridcolor\":\"white\",\"linecolor\":\"white\",\"ticks\":\"\"},\"caxis\":{\"gridcolor\":\"white\",\"linecolor\":\"white\",\"ticks\":\"\"}},\"coloraxis\":{\"colorbar\":{\"outlinewidth\":0,\"ticks\":\"\"}},\"colorscale\":{\"sequential\":[[0.0,\"#0d0887\"],[0.1111111111111111,\"#46039f\"],[0.2222222222222222,\"#7201a8\"],[0.3333333333333333,\"#9c179e\"],[0.4444444444444444,\"#bd3786\"],[0.5555555555555556,\"#d8576b\"],[0.6666666666666666,\"#ed7953\"],[0.7777777777777778,\"#fb9f3a\"],[0.8888888888888888,\"#fdca26\"],[1.0,\"#f0f921\"]],\"sequentialminus\":[[0.0,\"#0d0887\"],[0.1111111111111111,\"#46039f\"],[0.2222222222222222,\"#7201a8\"],[0.3333333333333333,\"#9c179e\"],[0.4444444444444444,\"#bd3786\"],[0.5555555555555556,\"#d8576b\"],[0.6666666666666666,\"#ed7953\"],[0.7777777777777778,\"#fb9f3a\"],[0.8888888888888888,\"#fdca26\"],[1.0,\"#f0f921\"]],\"diverging\":[[0,\"#8e0152\"],[0.1,\"#c51b7d\"],[0.2,\"#de77ae\"],[0.3,\"#f1b6da\"],[0.4,\"#fde0ef\"],[0.5,\"#f7f7f7\"],[0.6,\"#e6f5d0\"],[0.7,\"#b8e186\"],[0.8,\"#7fbc41\"],[0.9,\"#4d9221\"],[1,\"#276419\"]]},\"xaxis\":{\"gridcolor\":\"white\",\"linecolor\":\"white\",\"ticks\":\"\",\"title\":{\"standoff\":15},\"zerolinecolor\":\"white\",\"automargin\":true,\"zerolinewidth\":2},\"yaxis\":{\"gridcolor\":\"white\",\"linecolor\":\"white\",\"ticks\":\"\",\"title\":{\"standoff\":15},\"zerolinecolor\":\"white\",\"automargin\":true,\"zerolinewidth\":2},\"scene\":{\"xaxis\":{\"backgroundcolor\":\"#E5ECF6\",\"gridcolor\":\"white\",\"linecolor\":\"white\",\"showbackground\":true,\"ticks\":\"\",\"zerolinecolor\":\"white\",\"gridwidth\":2},\"yaxis\":{\"backgroundcolor\":\"#E5ECF6\",\"gridcolor\":\"white\",\"linecolor\":\"white\",\"showbackground\":true,\"ticks\":\"\",\"zerolinecolor\":\"white\",\"gridwidth\":2},\"zaxis\":{\"backgroundcolor\":\"#E5ECF6\",\"gridcolor\":\"white\",\"linecolor\":\"white\",\"showbackground\":true,\"ticks\":\"\",\"zerolinecolor\":\"white\",\"gridwidth\":2}},\"shapedefaults\":{\"line\":{\"color\":\"#2a3f5f\"}},\"annotationdefaults\":{\"arrowcolor\":\"#2a3f5f\",\"arrowhead\":0,\"arrowwidth\":1},\"geo\":{\"bgcolor\":\"white\",\"landcolor\":\"#E5ECF6\",\"subunitcolor\":\"white\",\"showland\":true,\"showlakes\":true,\"lakecolor\":\"white\"},\"title\":{\"x\":0.05},\"mapbox\":{\"style\":\"light\"}}},\"xaxis\":{\"anchor\":\"y\",\"domain\":[0.0,1.0],\"title\":{\"text\":\"index\"}},\"yaxis\":{\"anchor\":\"x\",\"domain\":[0.0,1.0],\"title\":{\"text\":\"loss\"}},\"legend\":{\"tracegroupgap\":0},\"margin\":{\"t\":60}},                        {\"responsive\": true}                    ).then(function(){\n",
              "                            \n",
              "var gd = document.getElementById('054fe5ee-37f5-4aa4-9c56-b6173dab3da6');\n",
              "var x = new MutationObserver(function (mutations, observer) {{\n",
              "        var display = window.getComputedStyle(gd).display;\n",
              "        if (!display || display === 'none') {{\n",
              "            console.log([gd, 'removed!']);\n",
              "            Plotly.purge(gd);\n",
              "            observer.disconnect();\n",
              "        }}\n",
              "}});\n",
              "\n",
              "// Listen for the removal of the full notebook cells\n",
              "var notebookContainer = gd.closest('#notebook-container');\n",
              "if (notebookContainer) {{\n",
              "    x.observe(notebookContainer, {childList: true});\n",
              "}}\n",
              "\n",
              "// Listen for the clearing of the current output cell\n",
              "var outputEl = gd.closest('.output');\n",
              "if (outputEl) {{\n",
              "    x.observe(outputEl, {childList: true});\n",
              "}}\n",
              "\n",
              "                        })                };                            </script>        </div>\n",
              "</body>\n",
              "</html>"
            ]
          },
          "metadata": {}
        }
      ]
    }
  ],
  "metadata": {
    "language_info": {
      "name": "python"
    },
    "orig_nbformat": 4,
    "colab": {
      "provenance": [],
      "include_colab_link": true
    },
    "kernelspec": {
      "name": "python3",
      "display_name": "Python 3"
    }
  },
  "nbformat": 4,
  "nbformat_minor": 0
}