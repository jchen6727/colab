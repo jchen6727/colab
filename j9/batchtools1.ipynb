{
 "cells": [
  {
   "cell_type": "markdown",
   "source": [
    "Jupyter Tutorial: The NetPyNE batchtools subpackage \n",
    "How to use the specs and comm to communicate with the batchtools dispatcher"
   ],
   "metadata": {
    "collapsed": false
   },
   "id": "a176b63b94757571"
  }
 ],
 "metadata": {
  "kernelspec": {
   "display_name": "Python 3",
   "language": "python",
   "name": "python3"
  },
  "language_info": {
   "codemirror_mode": {
    "name": "ipython",
    "version": 2
   },
   "file_extension": ".py",
   "mimetype": "text/x-python",
   "name": "python",
   "nbconvert_exporter": "python",
   "pygments_lexer": "ipython2",
   "version": "2.7.6"
  }
 },
 "nbformat": 4,
 "nbformat_minor": 5
}
